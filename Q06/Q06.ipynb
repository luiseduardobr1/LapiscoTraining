{
 "cells": [
  {
   "cell_type": "code",
   "execution_count": 38,
   "metadata": {},
   "outputs": [
    {
     "data": {
      "text/plain": [
       "True"
      ]
     },
     "execution_count": 38,
     "metadata": {},
     "output_type": "execute_result"
    }
   ],
   "source": [
    "import cv2\n",
    "\n",
    "# Open image\n",
    "img = cv2.imread('luise.jpg')\n",
    "\n",
    "# Convert to grayscale\n",
    "gray = cv2.cvtColor(img, cv2.COLOR_BGR2GRAY)\n",
    "\n",
    "# Edges\n",
    "'''\n",
    "Get images edge\n",
    "cv2.Canny(img, minVal, maxVal), minVal and maxVal is the interval where the edge could exist (or not):\n",
    "if Edge1 > maxVal, then it's a edge, \n",
    "if Edge2 < maxVal, but it is connected to Edge1, then Edge2 is a edge.\n",
    "if Edge3 > minVal and not connected to Edge1 or Edge2, so it's not a edge. \n",
    "'''\n",
    "edge = cv2.Canny(img, 100, 200)\n",
    "\n",
    "cv2.imshow('Edge image', edge)\n",
    "cv2.waitKey(0)\n",
    "\n",
    "# Save edge image\n",
    "cv2.imwrite('canny_filter_result.jpg', edge)"
   ]
  }
 ],
 "metadata": {
  "kernelspec": {
   "display_name": "Python 3",
   "language": "python",
   "name": "python3"
  },
  "language_info": {
   "codemirror_mode": {
    "name": "ipython",
    "version": 3
   },
   "file_extension": ".py",
   "mimetype": "text/x-python",
   "name": "python",
   "nbconvert_exporter": "python",
   "pygments_lexer": "ipython3",
   "version": "3.7.4"
  }
 },
 "nbformat": 4,
 "nbformat_minor": 2
}
