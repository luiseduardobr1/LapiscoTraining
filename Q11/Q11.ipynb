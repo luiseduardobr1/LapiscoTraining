{
 "cells": [
  {
   "cell_type": "code",
   "execution_count": 3,
   "metadata": {},
   "outputs": [
    {
     "name": "stdout",
     "output_type": "stream",
     "text": [
      "312 312\n"
     ]
    },
    {
     "data": {
      "text/plain": [
       "-1"
      ]
     },
     "execution_count": 3,
     "metadata": {},
     "output_type": "execute_result"
    }
   ],
   "source": [
    "import cv2\n",
    "import numpy as np\n",
    "\n",
    "# Open image\n",
    "img = cv2.imread('image.jpg')\n",
    "\n",
    "# Convert to grayscale\n",
    "gray = cv2.cvtColor(img, cv2.COLOR_BGR2GRAY)\n",
    "\n",
    "# Show gray image\n",
    "cv2.imshow('gray', gray)\n",
    "\n",
    "# Get width and height\n",
    "rows, columns = gray.shape\n",
    "\n",
    "# Create matrix of zeros\n",
    "matriz = np.zeros((rows, columns), dtype=np.uint8)\n",
    "\n",
    "\n",
    "# Get pixels to matrix\n",
    "xc=0\n",
    "yc=0\n",
    "total=0\n",
    "for row in range(rows):\n",
    "    for col in range(columns):\n",
    "        matriz[row, col] = gray[row, col]\n",
    "        if matriz[row, col]==0:\n",
    "            xc=xc+row\n",
    "            yc=yc+col\n",
    "            total=total+1\n",
    "            \n",
    "        \n",
    "# Centroid\n",
    "xc=int(xc/total)\n",
    "yc=int(yc/total)\n",
    "print(xc,yc)\n",
    "\n",
    "# Draw a circle in the centroid of the square\n",
    "cv2.circle(matriz, (xc, yc), 5, (255, 255, 255),-1)\n",
    "\n",
    "# Show centroid image\n",
    "cv2.imshow('Centroid', matriz)\n",
    "\n",
    "cv2.waitKey(0)"
   ]
  }
 ],
 "metadata": {
  "kernelspec": {
   "display_name": "Python 3",
   "language": "python",
   "name": "python3"
  },
  "language_info": {
   "codemirror_mode": {
    "name": "ipython",
    "version": 3
   },
   "file_extension": ".py",
   "mimetype": "text/x-python",
   "name": "python",
   "nbconvert_exporter": "python",
   "pygments_lexer": "ipython3",
   "version": "3.7.4"
  }
 },
 "nbformat": 4,
 "nbformat_minor": 2
}
