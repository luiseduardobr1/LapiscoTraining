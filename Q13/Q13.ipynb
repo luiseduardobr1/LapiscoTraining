{
 "cells": [
  {
   "cell_type": "code",
   "execution_count": 25,
   "metadata": {},
   "outputs": [
    {
     "data": {
      "text/plain": [
       "-1"
      ]
     },
     "execution_count": 25,
     "metadata": {},
     "output_type": "execute_result"
    }
   ],
   "source": [
    "import cv2\n",
    "import numpy as np\n",
    "\n",
    "# open image\n",
    "img = cv2.imread('luise.jpg')\n",
    "\n",
    "# Convert to grayscale\n",
    "gray = cv2.cvtColor(img, cv2.COLOR_BGR2GRAY)\n",
    "\n",
    "# Get dimensions\n",
    "rows, columns = gray.shape\n",
    "\n",
    "# Create zero matrix\n",
    "matriz = np.zeros((rows, columns), dtype=np.uint8)\n",
    "\n",
    "# Get pixels in matrix's elements\n",
    "for row in range(rows):\n",
    "    for col in range(columns):\n",
    "        matriz[row,col]=gray[row,col]\n",
    "\n",
    "# Sobel Operator - derivate image for edges\n",
    "sobel = cv2.Sobel(matriz,cv2.CV_8U,1,1,ksize=3)\n",
    "cv2.imshow('Sobel Operato2r', sobel)\n",
    "\n",
    "# Sobel 2\n",
    "for row in range(1, rows-1):\n",
    "    for col in range(1, columns-1):\n",
    "        gx = gray[row - 1, col - 1] * (-1) + gray[row, col - 1] * (-2) + \\\n",
    "             gray[row + 1, col - 1] * (-1) + gray[row - 1, col + 1] + \\\n",
    "             gray[row, col + 1] * 2 + gray[row + 1, col + 1]\n",
    "\n",
    "        gy = gray[row - 1, col - 1] * (-1) + gray[row - 1, col] * (-2) + \\\n",
    "             gray[row - 1, col + 1] * (-1) + gray[row + 1, col - 1] + \\\n",
    "             gray[row + 1, col] * 2 + gray[row - 1, col + 1]\n",
    "\n",
    "        matriz[row, col] = (gx**2 + gy**2)**(1/2)\n",
    "        \n",
    "        \n",
    "cv2.imshow('Sobel Operator', matriz)\n",
    "\n",
    "\n",
    "cv2.waitKey(0)"
   ]
  }
 ],
 "metadata": {
  "kernelspec": {
   "display_name": "Python 3",
   "language": "python",
   "name": "python3"
  },
  "language_info": {
   "codemirror_mode": {
    "name": "ipython",
    "version": 3
   },
   "file_extension": ".py",
   "mimetype": "text/x-python",
   "name": "python",
   "nbconvert_exporter": "python",
   "pygments_lexer": "ipython3",
   "version": "3.7.4"
  }
 },
 "nbformat": 4,
 "nbformat_minor": 2
}
