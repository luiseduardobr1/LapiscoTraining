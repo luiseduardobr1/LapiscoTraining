{
 "cells": [
  {
   "cell_type": "code",
   "execution_count": 3,
   "metadata": {},
   "outputs": [
    {
     "data": {
      "text/plain": [
       "True"
      ]
     },
     "execution_count": 3,
     "metadata": {},
     "output_type": "execute_result"
    }
   ],
   "source": [
    "import cv2\n",
    "\n",
    "# Open image\n",
    "img = cv2.imread('luise.jpg')\n",
    "\n",
    "# Convert to grayscale\n",
    "gray = cv2.cvtColor(img, cv2.COLOR_BGR2GRAY)\n",
    "\n",
    "'''\n",
    "Simple Thresholding:\n",
    "\n",
    "For every pixel, the same threshold value is applied. If the pixel value is smaller than the threshold, it is set to 0, \n",
    "otherwise it is set to a maximum value. The function cv.threshold is used to apply the thresholding. The first argument \n",
    "is the source image, which should be a grayscale image. The second argument is the threshold value which is used to \n",
    "classify the pixel values. The third argument is the maximum value which is assigned to pixel values exceeding the threshold. \n",
    "OpenCV provides different types of thresholding which is given by the fourth parameter of the function. Basic thresholding as \n",
    "described above is done by using the type cv.THRESH_BINARY. \n",
    "'''\n",
    "# Simple Thresholding\n",
    "ret, thresh1 = cv2.threshold(gray,130,255,cv2.THRESH_BINARY)\n",
    "\n",
    "# Show Thresholding\n",
    "cv2.imshow('Simple Thresholding', thresh1)\n",
    "cv2.waitKey(0)\n",
    "\n",
    "# Save the results\n",
    "cv2.imwrite('threshold_result.jpg', thresh1)"
   ]
  }
 ],
 "metadata": {
  "kernelspec": {
   "display_name": "Python 3",
   "language": "python",
   "name": "python3"
  },
  "language_info": {
   "codemirror_mode": {
    "name": "ipython",
    "version": 3
   },
   "file_extension": ".py",
   "mimetype": "text/x-python",
   "name": "python",
   "nbconvert_exporter": "python",
   "pygments_lexer": "ipython3",
   "version": "3.7.4"
  }
 },
 "nbformat": 4,
 "nbformat_minor": 2
}
