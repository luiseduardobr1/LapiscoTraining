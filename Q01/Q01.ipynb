{
 "cells": [
  {
   "cell_type": "code",
   "execution_count": 7,
   "metadata": {},
   "outputs": [],
   "source": [
    "import cv2\n",
    "\n",
    "# ---- Open image ----\n",
    "#1 - cv2.IMREAD_COLOR : Loads a color image. Any transparency of image will be neglected. It is the default flag.\n",
    "#0 - cv2.IMREAD_GRAYSCALE : Loads image in grayscale mode\n",
    "#-1 - cv2.IMREAD_UNCHANGED : Loads image as such including alpha channel\n",
    "img = cv2.imread('luise.jpg',1)\n",
    "\n",
    "# Show the image\n",
    "cv2.imshow('Hi, it is me - Luis', img)\n",
    "\n",
    "# Wait to press '0' to close\n",
    "cv2.waitKey(0)\n",
    "cv2.destroyAllWindows()"
   ]
  }
 ],
 "metadata": {
  "kernelspec": {
   "display_name": "Python 3",
   "language": "python",
   "name": "python3"
  },
  "language_info": {
   "codemirror_mode": {
    "name": "ipython",
    "version": 3
   },
   "file_extension": ".py",
   "mimetype": "text/x-python",
   "name": "python",
   "nbconvert_exporter": "python",
   "pygments_lexer": "ipython3",
   "version": "3.7.4"
  }
 },
 "nbformat": 4,
 "nbformat_minor": 2
}
