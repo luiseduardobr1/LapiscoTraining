{
 "cells": [
  {
   "cell_type": "code",
   "execution_count": 4,
   "metadata": {},
   "outputs": [
    {
     "name": "stdout",
     "output_type": "stream",
     "text": [
      "Original scale: (412, 400)\n",
      "First scale: (247, 240)\n",
      "First scale: (824, 800)\n"
     ]
    },
    {
     "data": {
      "text/plain": [
       "-1"
      ]
     },
     "execution_count": 4,
     "metadata": {},
     "output_type": "execute_result"
    }
   ],
   "source": [
    "import cv2\n",
    "\n",
    "# Open image\n",
    "img = cv2.imread('luise.jpg')\n",
    "\n",
    "# Convert to grayscale\n",
    "gray = cv2.cvtColor(img, cv2.COLOR_BGR2GRAY)\n",
    "\n",
    "# Print image original scale\n",
    "print('Original scale: ' + str(gray.shape))\n",
    "\n",
    "# Just 60% scale\n",
    "height = int(gray.shape[0]*0.6)\n",
    "width = int(gray.shape[1]*0.6)\n",
    "dimension = (width, height)\n",
    "resized1 = cv2.resize(gray, dimension, interpolation = cv2.INTER_AREA)\n",
    "cv2.imshow('60%', resized1)\n",
    "print('First scale: ' + str(resized1.shape))\n",
    "cv2.waitKey(0)\n",
    "\n",
    "# Just 200% scale\n",
    "height = int(gray.shape[0]*2.0)\n",
    "width = int(gray.shape[1]*2.0)\n",
    "dimension = (width, height)\n",
    "resized1 = cv2.resize(gray, dimension, interpolation = cv2.INTER_AREA)\n",
    "cv2.imshow('130%', resized1)\n",
    "print('Second scale: ' + str(resized1.shape))\n",
    "cv2.waitKey(0)"
   ]
  }
 ],
 "metadata": {
  "kernelspec": {
   "display_name": "Python 3",
   "language": "python",
   "name": "python3"
  },
  "language_info": {
   "codemirror_mode": {
    "name": "ipython",
    "version": 3
   },
   "file_extension": ".py",
   "mimetype": "text/x-python",
   "name": "python",
   "nbconvert_exporter": "python",
   "pygments_lexer": "ipython3",
   "version": "3.7.4"
  }
 },
 "nbformat": 4,
 "nbformat_minor": 2
}
