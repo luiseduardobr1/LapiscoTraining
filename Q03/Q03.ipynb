{
 "cells": [
  {
   "cell_type": "code",
   "execution_count": 9,
   "metadata": {},
   "outputs": [
    {
     "data": {
      "text/plain": [
       "-1"
      ]
     },
     "execution_count": 9,
     "metadata": {},
     "output_type": "execute_result"
    }
   ],
   "source": [
    "import cv2\n",
    "import numpy as np\n",
    "\n",
    "# Open image\n",
    "img = cv2.imread(\"luise.jpg\")\n",
    "\n",
    "# Separate in green, red and blue colors, but it will show as grayscale\n",
    "# blue, green, red = cv2.split(img)\n",
    "\n",
    "# Workaround to save as Blue, Red and Green colors\n",
    "# BLUE\n",
    "blue = img[:,:,0]\n",
    "green = img[:,:,1]=0\n",
    "red = img[:,:,2]=0\n",
    "cv2.imshow('Blue Image', img)\n",
    "cv2.imwrite('BlueImage.jpg', img)\n",
    "\n",
    "# GREEN\n",
    "img = cv2.imread(\"luise.jpg\")\n",
    "blue = img[:,:,0]=0\n",
    "green = img[:,:,1]\n",
    "red = img[:,:,2]=0\n",
    "cv2.imshow('Green Image', img)\n",
    "cv2.imwrite('GreenImage.jpg', img)\n",
    "\n",
    "# RED\n",
    "img = cv2.imread(\"luise.jpg\")\n",
    "blue = img[:,:,0]=0\n",
    "green = img[:,:,1]=0\n",
    "red = img[:,:,2]\n",
    "cv2.imshow('Red Image', img)\n",
    "cv2.imwrite('RedImage.jpg', img)\n",
    "\n",
    "\n",
    "cv2.waitKey(0)"
   ]
  }
 ],
 "metadata": {
  "kernelspec": {
   "display_name": "Python 3",
   "language": "python",
   "name": "python3"
  },
  "language_info": {
   "codemirror_mode": {
    "name": "ipython",
    "version": 3
   },
   "file_extension": ".py",
   "mimetype": "text/x-python",
   "name": "python",
   "nbconvert_exporter": "python",
   "pygments_lexer": "ipython3",
   "version": "3.7.4"
  }
 },
 "nbformat": 4,
 "nbformat_minor": 2
}
