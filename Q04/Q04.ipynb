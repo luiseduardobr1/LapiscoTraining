{
 "cells": [
  {
   "cell_type": "code",
   "execution_count": 10,
   "metadata": {},
   "outputs": [
    {
     "data": {
      "text/plain": [
       "-1"
      ]
     },
     "execution_count": 10,
     "metadata": {},
     "output_type": "execute_result"
    }
   ],
   "source": [
    "import cv2\n",
    "\n",
    "'''\n",
    "----------------- OBSERVATION ------------------------------------\n",
    "It doesn´t make sense to display an image that has been converted to HSV using imshow().\n",
    "\n",
    "imshow() thinks, the Matrix is in BGR order. Converting the image to HSV just converts the RGB values to HSV \n",
    "channel values.\n",
    "\n",
    "It was before 3 channel and after the conversion it is also 3 channel but other values. imshow() still wants to \n",
    "display the image as RGB image but then with HSV values which leads to an invalid image.\n",
    "\n",
    "Just convert it back to RGB to make imshow() show the image correctly.\n",
    "\n",
    "Link: https://stackoverflow.com/questions/27789797/how-to-display-hsv-image-after-using-rgbtohsv-converter-function-in-c\n",
    "------------------------------------------------------------------\n",
    "\n",
    "'''\n",
    "\n",
    "'''\n",
    "HSV significa (em português):\n",
    "\n",
    "Matiz (tonalidade): Verifica o tipo de cor, abrangendo todas as cores do espectro, desde o vermelho \n",
    "até o violeta, mais o magenta. Atinge valores de 0 a 360, mas para algumas aplicações, esse valor é \n",
    "normalizado de 0 a 100%.\n",
    "\n",
    "Saturação: Também chamado de \"pureza\". Quanto menor esse valor, mais com tom de cinza aparecerá a \n",
    "imagem. Quanto maior o valor, mais \"pura\" é a imagem. Atinge valores de 0 a 100%.\n",
    "\n",
    "Valor (brilho): Define o brilho da cor. Atinge valores de 0 a 100%.\n",
    "'''\n",
    "\n",
    "# Open image\n",
    "img = cv2.imread('luise.jpg', 1)\n",
    "\n",
    "# Convert to HSV\n",
    "hsv = cv2.cvtColor(img, cv2.COLOR_BGR2HSV)\n",
    "\n",
    "# Show the HSV image\n",
    "cv2.imshow('HSV Image', hsv)\n",
    "\n",
    "# Save HSV image\n",
    "cv2.imwrite('HSVimage.jpg', hsv)\n",
    "\n",
    "# Hue (matiz)\n",
    "h = hsv[:,:,0]\n",
    "s = hsv[:,:,1]=0\n",
    "v = hsv[:,:,2]=0\n",
    "cv2.imshow('Hue Image', hsv)\n",
    "cv2.imwrite('Hueimage.jpg', hsv)\n",
    "\n",
    "# Saturation\n",
    "img = cv2.imread('luise.jpg', 1)\n",
    "hsv = cv2.cvtColor(img, cv2.COLOR_BGR2HSV)\n",
    "h = hsv[:,:,0]=0\n",
    "s = hsv[:,:,1]\n",
    "v = hsv[:,:,2]=0\n",
    "cv2.imshow('Saturation Image', hsv)\n",
    "cv2.imwrite('Saturationimage.jpg', hsv)\n",
    "\n",
    "# Value\n",
    "img = cv2.imread('luise.jpg', 1)\n",
    "hsv = cv2.cvtColor(img, cv2.COLOR_BGR2HSV)\n",
    "h = hsv[:,:,0]=0\n",
    "s = hsv[:,:,1]=0\n",
    "v = hsv[:,:,2]\n",
    "cv2.imshow('Value Image', hsv)\n",
    "cv2.imwrite('Valueimage.jpg', hsv)\n",
    "\n",
    "\n",
    "cv2.waitKey(0)\n",
    "#cv2.imwrite('BlueImage.jpg', img)"
   ]
  }
 ],
 "metadata": {
  "kernelspec": {
   "display_name": "Python 3",
   "language": "python",
   "name": "python3"
  },
  "language_info": {
   "codemirror_mode": {
    "name": "ipython",
    "version": 3
   },
   "file_extension": ".py",
   "mimetype": "text/x-python",
   "name": "python",
   "nbconvert_exporter": "python",
   "pygments_lexer": "ipython3",
   "version": "3.7.4"
  }
 },
 "nbformat": 4,
 "nbformat_minor": 2
}
