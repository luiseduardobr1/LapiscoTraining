{
 "cells": [
  {
   "cell_type": "code",
   "execution_count": 1,
   "metadata": {},
   "outputs": [],
   "source": [
    "import cv2\n",
    "\n",
    "# Open image\n",
    "img = cv2.imread('luise.jpg')\n",
    "\n",
    "# Convert to grayscale\n",
    "gray = cv2.cvtColor(img, cv2.COLOR_BGR2GRAY)\n",
    "\n",
    "# Simple Thresholding\n",
    "ret, thresh1 = cv2.threshold(gray,127,255,cv2.THRESH_BINARY)\n",
    "\n",
    "# Get width and height\n",
    "rows, columns = thresh1.shape\n",
    "\n",
    "# Save in a text file\n",
    "with open('luis.txt','w') as output:\n",
    "    for rows in range(rows):\n",
    "        for columns in range(columns):\n",
    "            output.write(str(thresh1[rows, columns]) + ' ')\n",
    "        output.write('\\n')"
   ]
  }
 ],
 "metadata": {
  "kernelspec": {
   "display_name": "Python 3",
   "language": "python",
   "name": "python3"
  },
  "language_info": {
   "codemirror_mode": {
    "name": "ipython",
    "version": 3
   },
   "file_extension": ".py",
   "mimetype": "text/x-python",
   "name": "python",
   "nbconvert_exporter": "python",
   "pygments_lexer": "ipython3",
   "version": "3.7.4"
  }
 },
 "nbformat": 4,
 "nbformat_minor": 2
}
