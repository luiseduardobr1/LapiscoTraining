{
 "cells": [
  {
   "cell_type": "code",
   "execution_count": 2,
   "metadata": {},
   "outputs": [
    {
     "data": {
      "text/plain": [
       "True"
      ]
     },
     "execution_count": 2,
     "metadata": {},
     "output_type": "execute_result"
    }
   ],
   "source": [
    "import cv2\n",
    "\n",
    "# Open image\n",
    "img = cv2.imread('luise.jpg')\n",
    "\n",
    "# Convert to grayscale\n",
    "gray = cv2.cvtColor(img, cv2.COLOR_BGR2GRAY)\n",
    "\n",
    "# Apply the median and blur filters\n",
    "'''\n",
    " median - computes the median of all the pixels under the kernel window and the central pixel is replaced with \n",
    " this median value. This is highly effective in removing salt-and-pepper noise. Median filtering is very widely \n",
    " used in digital image processing because, under certain conditions, it preserves edges while removing noise \n",
    " also having applications in signal processing.\n",
    "\n",
    " blur - It takes the average of all the pixels under kernel area and replaces the central element with this average.\n",
    "'''\n",
    "\n",
    "median_image = cv2.medianBlur(gray, ksize=5)\n",
    "blur_image = cv2.blur(gray, ksize=(5, 5))\n",
    "\n",
    "# Show the input image\n",
    "cv2.imshow('Input grayscale image', gray)\n",
    "\n",
    "# Show the results of median and blur filters\n",
    "cv2.imshow('Median filter result', median_image)\n",
    "cv2.imshow('Blur filter result', blur_image)\n",
    "\n",
    "cv2.waitKey(0)\n",
    "\n",
    "# Save the results\n",
    "cv2.imwrite('median_filter_result.jpg', median_image)\n",
    "cv2.imwrite('blur_filter_result.jpg', blur_image)"
   ]
  }
 ],
 "metadata": {
  "kernelspec": {
   "display_name": "Python 3",
   "language": "python",
   "name": "python3"
  },
  "language_info": {
   "codemirror_mode": {
    "name": "ipython",
    "version": 3
   },
   "file_extension": ".py",
   "mimetype": "text/x-python",
   "name": "python",
   "nbconvert_exporter": "python",
   "pygments_lexer": "ipython3",
   "version": "3.7.4"
  }
 },
 "nbformat": 4,
 "nbformat_minor": 2
}
